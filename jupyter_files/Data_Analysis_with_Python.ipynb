{
 "cells": [
  {
   "cell_type": "code",
   "execution_count": 1,
   "metadata": {
    "scrolled": true
   },
   "outputs": [],
   "source": [
    "import numpy as np\n",
    "import pandas as pd"
   ]
  },
  {
   "cell_type": "code",
   "execution_count": 2,
   "metadata": {
    "scrolled": true
   },
   "outputs": [],
   "source": [
    "dataset = \"/home/tejaswini/Desktop/project/prog/water_quality.csv\"\n",
    "data = pd.read_csv(dataset, encoding='latin-1')"
   ]
  },
  {
   "cell_type": "code",
   "execution_count": 3,
   "metadata": {
    "scrolled": true
   },
   "outputs": [
    {
     "data": {
      "text/plain": [
       "Index(['State Name', 'District Name', 'Block Name', 'Panchayat Name',\n",
       "       'Village Name', 'Habitation Name', 'Quality Parameter', 'Year',\n",
       "       'Unnamed: 8'],\n",
       "      dtype='object')"
      ]
     },
     "execution_count": 3,
     "metadata": {},
     "output_type": "execute_result"
    }
   ],
   "source": [
    "data.columns"
   ]
  },
  {
   "cell_type": "code",
   "execution_count": 4,
   "metadata": {},
   "outputs": [
    {
     "data": {
      "text/html": [
       "<div>\n",
       "<style scoped>\n",
       "    .dataframe tbody tr th:only-of-type {\n",
       "        vertical-align: middle;\n",
       "    }\n",
       "\n",
       "    .dataframe tbody tr th {\n",
       "        vertical-align: top;\n",
       "    }\n",
       "\n",
       "    .dataframe thead th {\n",
       "        text-align: right;\n",
       "    }\n",
       "</style>\n",
       "<table border=\"1\" class=\"dataframe\">\n",
       "  <thead>\n",
       "    <tr style=\"text-align: right;\">\n",
       "      <th></th>\n",
       "      <th>State Name</th>\n",
       "      <th>District Name</th>\n",
       "      <th>Block Name</th>\n",
       "      <th>Panchayat Name</th>\n",
       "      <th>Village Name</th>\n",
       "      <th>Habitation Name</th>\n",
       "      <th>Quality Parameter</th>\n",
       "      <th>Year</th>\n",
       "      <th>Unnamed: 8</th>\n",
       "    </tr>\n",
       "  </thead>\n",
       "  <tbody>\n",
       "    <tr>\n",
       "      <th>0</th>\n",
       "      <td>ASSAM</td>\n",
       "      <td>KOKRAJHAR</td>\n",
       "      <td>DOTOMA</td>\n",
       "      <td>SERFANGURI</td>\n",
       "      <td>SERFANGURI(INCLUDING</td>\n",
       "      <td>RUPGAON</td>\n",
       "      <td>Iron</td>\n",
       "      <td>01-04-2012</td>\n",
       "      <td>NaN</td>\n",
       "    </tr>\n",
       "  </tbody>\n",
       "</table>\n",
       "</div>"
      ],
      "text/plain": [
       "  State Name District Name Block Name Panchayat Name          Village Name  \\\n",
       "0      ASSAM     KOKRAJHAR     DOTOMA     SERFANGURI  SERFANGURI(INCLUDING   \n",
       "\n",
       "  Habitation Name Quality Parameter        Year Unnamed: 8  \n",
       "0         RUPGAON              Iron  01-04-2012        NaN  "
      ]
     },
     "execution_count": 4,
     "metadata": {},
     "output_type": "execute_result"
    }
   ],
   "source": [
    "data[:1]"
   ]
  },
  {
   "cell_type": "code",
   "execution_count": 5,
   "metadata": {},
   "outputs": [
    {
     "data": {
      "text/plain": [
       "State Name                      ASSAM\n",
       "District Name               KOKRAJHAR\n",
       "Block Name                     DOTOMA\n",
       "Panchayat Name            BONGSHIGAON\n",
       "Village Name              BONGSHIGAON\n",
       "Habitation Name      SOUTH BONGSIGAON\n",
       "Quality Parameter                Iron\n",
       "Year                       01-04-2012\n",
       "Unnamed: 8                        NaN\n",
       "Name: 10, dtype: object"
      ]
     },
     "execution_count": 5,
     "metadata": {},
     "output_type": "execute_result"
    }
   ],
   "source": [
    "data.iloc[10]"
   ]
  },
  {
   "cell_type": "code",
   "execution_count": 6,
   "metadata": {},
   "outputs": [
    {
     "data": {
      "text/html": [
       "<div>\n",
       "<style scoped>\n",
       "    .dataframe tbody tr th:only-of-type {\n",
       "        vertical-align: middle;\n",
       "    }\n",
       "\n",
       "    .dataframe tbody tr th {\n",
       "        vertical-align: top;\n",
       "    }\n",
       "\n",
       "    .dataframe thead th {\n",
       "        text-align: right;\n",
       "    }\n",
       "</style>\n",
       "<table border=\"1\" class=\"dataframe\">\n",
       "  <thead>\n",
       "    <tr style=\"text-align: right;\">\n",
       "      <th></th>\n",
       "      <th>State Name</th>\n",
       "      <th>District Name</th>\n",
       "      <th>Block Name</th>\n",
       "      <th>Panchayat Name</th>\n",
       "      <th>Village Name</th>\n",
       "      <th>Habitation Name</th>\n",
       "      <th>Quality Parameter</th>\n",
       "      <th>Year</th>\n",
       "      <th>Unnamed: 8</th>\n",
       "    </tr>\n",
       "  </thead>\n",
       "  <tbody>\n",
       "    <tr>\n",
       "      <th>count</th>\n",
       "      <td>104160</td>\n",
       "      <td>104160</td>\n",
       "      <td>104160</td>\n",
       "      <td>104160</td>\n",
       "      <td>104160</td>\n",
       "      <td>104160</td>\n",
       "      <td>104156</td>\n",
       "      <td>104156</td>\n",
       "      <td>2</td>\n",
       "    </tr>\n",
       "    <tr>\n",
       "      <th>unique</th>\n",
       "      <td>24</td>\n",
       "      <td>356</td>\n",
       "      <td>2140</td>\n",
       "      <td>20198</td>\n",
       "      <td>42817</td>\n",
       "      <td>76403</td>\n",
       "      <td>8</td>\n",
       "      <td>3</td>\n",
       "      <td>1</td>\n",
       "    </tr>\n",
       "    <tr>\n",
       "      <th>top</th>\n",
       "      <td>RAJASTHAN</td>\n",
       "      <td>BARMER</td>\n",
       "      <td>BARMER</td>\n",
       "      <td>RATANPUR</td>\n",
       "      <td>RAMPUR</td>\n",
       "      <td>HARIJAN TOLA</td>\n",
       "      <td>Iron</td>\n",
       "      <td>01-04-2012</td>\n",
       "      <td>01-04-2012</td>\n",
       "    </tr>\n",
       "    <tr>\n",
       "      <th>freq</th>\n",
       "      <td>26729</td>\n",
       "      <td>10570</td>\n",
       "      <td>1983</td>\n",
       "      <td>185</td>\n",
       "      <td>123</td>\n",
       "      <td>577</td>\n",
       "      <td>56139</td>\n",
       "      <td>104154</td>\n",
       "      <td>2</td>\n",
       "    </tr>\n",
       "  </tbody>\n",
       "</table>\n",
       "</div>"
      ],
      "text/plain": [
       "       State Name District Name Block Name Panchayat Name Village Name  \\\n",
       "count      104160        104160     104160         104160       104160   \n",
       "unique         24           356       2140          20198        42817   \n",
       "top     RAJASTHAN        BARMER     BARMER       RATANPUR       RAMPUR   \n",
       "freq        26729         10570       1983            185          123   \n",
       "\n",
       "       Habitation Name Quality Parameter        Year  Unnamed: 8  \n",
       "count           104160            104156      104156           2  \n",
       "unique           76403                 8           3           1  \n",
       "top       HARIJAN TOLA              Iron  01-04-2012  01-04-2012  \n",
       "freq               577             56139      104154           2  "
      ]
     },
     "execution_count": 6,
     "metadata": {},
     "output_type": "execute_result"
    }
   ],
   "source": [
    "data.describe()"
   ]
  },
  {
   "cell_type": "code",
   "execution_count": 7,
   "metadata": {},
   "outputs": [
    {
     "data": {
      "text/plain": [
       "56139"
      ]
     },
     "execution_count": 7,
     "metadata": {},
     "output_type": "execute_result"
    }
   ],
   "source": [
    "iron_data = data[data['Quality Parameter'] == 'Iron']\n",
    "len(iron_data)"
   ]
  },
  {
   "cell_type": "code",
   "execution_count": 8,
   "metadata": {},
   "outputs": [
    {
     "data": {
      "text/html": [
       "<div>\n",
       "<style scoped>\n",
       "    .dataframe tbody tr th:only-of-type {\n",
       "        vertical-align: middle;\n",
       "    }\n",
       "\n",
       "    .dataframe tbody tr th {\n",
       "        vertical-align: top;\n",
       "    }\n",
       "\n",
       "    .dataframe thead th {\n",
       "        text-align: right;\n",
       "    }\n",
       "</style>\n",
       "<table border=\"1\" class=\"dataframe\">\n",
       "  <thead>\n",
       "    <tr style=\"text-align: right;\">\n",
       "      <th></th>\n",
       "      <th>State Name</th>\n",
       "      <th>District Name</th>\n",
       "      <th>Block Name</th>\n",
       "      <th>Panchayat Name</th>\n",
       "      <th>Village Name</th>\n",
       "      <th>Habitation Name</th>\n",
       "      <th>Quality Parameter</th>\n",
       "      <th>Year</th>\n",
       "      <th>Unnamed: 8</th>\n",
       "    </tr>\n",
       "  </thead>\n",
       "  <tbody>\n",
       "    <tr>\n",
       "      <th>count</th>\n",
       "      <td>56139</td>\n",
       "      <td>56139</td>\n",
       "      <td>56139</td>\n",
       "      <td>56139</td>\n",
       "      <td>56139</td>\n",
       "      <td>56139</td>\n",
       "      <td>56139</td>\n",
       "      <td>56139</td>\n",
       "      <td>0.0</td>\n",
       "    </tr>\n",
       "    <tr>\n",
       "      <th>unique</th>\n",
       "      <td>21</td>\n",
       "      <td>225</td>\n",
       "      <td>1286</td>\n",
       "      <td>10918</td>\n",
       "      <td>24376</td>\n",
       "      <td>40011</td>\n",
       "      <td>1</td>\n",
       "      <td>1</td>\n",
       "      <td>0.0</td>\n",
       "    </tr>\n",
       "    <tr>\n",
       "      <th>top</th>\n",
       "      <td>ASSAM</td>\n",
       "      <td>SUPAUL</td>\n",
       "      <td>BASANTPUR</td>\n",
       "      <td>RATANPUR</td>\n",
       "      <td>RAMPUR</td>\n",
       "      <td>HARIJAN TOLA</td>\n",
       "      <td>Iron</td>\n",
       "      <td>01-04-2012</td>\n",
       "      <td>NaN</td>\n",
       "    </tr>\n",
       "    <tr>\n",
       "      <th>freq</th>\n",
       "      <td>14742</td>\n",
       "      <td>2500</td>\n",
       "      <td>515</td>\n",
       "      <td>178</td>\n",
       "      <td>97</td>\n",
       "      <td>377</td>\n",
       "      <td>56139</td>\n",
       "      <td>56139</td>\n",
       "      <td>NaN</td>\n",
       "    </tr>\n",
       "  </tbody>\n",
       "</table>\n",
       "</div>"
      ],
      "text/plain": [
       "       State Name District Name Block Name Panchayat Name Village Name  \\\n",
       "count       56139         56139      56139          56139        56139   \n",
       "unique         21           225       1286          10918        24376   \n",
       "top         ASSAM        SUPAUL  BASANTPUR       RATANPUR       RAMPUR   \n",
       "freq        14742          2500        515            178           97   \n",
       "\n",
       "       Habitation Name Quality Parameter        Year  Unnamed: 8  \n",
       "count            56139             56139       56139         0.0  \n",
       "unique           40011                 1           1         0.0  \n",
       "top       HARIJAN TOLA              Iron  01-04-2012         NaN  \n",
       "freq               377             56139       56139         NaN  "
      ]
     },
     "execution_count": 8,
     "metadata": {},
     "output_type": "execute_result"
    }
   ],
   "source": [
    "iron_data.describe()"
   ]
  },
  {
   "cell_type": "code",
   "execution_count": 9,
   "metadata": {},
   "outputs": [
    {
     "data": {
      "text/plain": [
       "0         Iron\n",
       "1         Iron\n",
       "2         Iron\n",
       "3         Iron\n",
       "4         Iron\n",
       "5         Iron\n",
       "6         Iron\n",
       "7         Iron\n",
       "8         Iron\n",
       "9         Iron\n",
       "10        Iron\n",
       "11        Iron\n",
       "12        Iron\n",
       "13        Iron\n",
       "14        Iron\n",
       "15        Iron\n",
       "16        Iron\n",
       "17        Iron\n",
       "18        Iron\n",
       "19        Iron\n",
       "20        Iron\n",
       "21        Iron\n",
       "22        Iron\n",
       "23        Iron\n",
       "24        Iron\n",
       "25        Iron\n",
       "26        Iron\n",
       "27        Iron\n",
       "28        Iron\n",
       "29        Iron\n",
       "          ... \n",
       "104130    Iron\n",
       "104131    Iron\n",
       "104132    Iron\n",
       "104133    Iron\n",
       "104134    Iron\n",
       "104135    Iron\n",
       "104136    Iron\n",
       "104137    Iron\n",
       "104138    Iron\n",
       "104139    Iron\n",
       "104140    Iron\n",
       "104141    Iron\n",
       "104142    Iron\n",
       "104143    Iron\n",
       "104144    Iron\n",
       "104145    Iron\n",
       "104146    Iron\n",
       "104147    Iron\n",
       "104148    Iron\n",
       "104149    Iron\n",
       "104150    Iron\n",
       "104151    Iron\n",
       "104152    Iron\n",
       "104153    Iron\n",
       "104154    Iron\n",
       "104155    Iron\n",
       "104156    Iron\n",
       "104157    Iron\n",
       "104158    Iron\n",
       "104159    Iron\n",
       "Name: Quality Parameter, Length: 104160, dtype: object"
      ]
     },
     "execution_count": 9,
     "metadata": {},
     "output_type": "execute_result"
    }
   ],
   "source": [
    "p = data['Quality Parameter']\n",
    "\n",
    "p\n"
   ]
  },
  {
   "cell_type": "code",
   "execution_count": 10,
   "metadata": {},
   "outputs": [
    {
     "data": {
      "text/plain": [
       "array(['Iron', 'Arsenic', 'Salinity', 'Fluoride', 'Nitrate', nan,\n",
       "       'RAGHUNATH PURA', 'ACOLONY,iron', 'SARPANCH /KAMALA PADAR'],\n",
       "      dtype=object)"
      ]
     },
     "execution_count": 10,
     "metadata": {},
     "output_type": "execute_result"
    }
   ],
   "source": [
    "p.unique()"
   ]
  },
  {
   "cell_type": "code",
   "execution_count": 11,
   "metadata": {},
   "outputs": [
    {
     "data": {
      "text/plain": [
       "Iron                      56139\n",
       "Salinity                  22957\n",
       "Fluoride                  17985\n",
       "Arsenic                    4314\n",
       "Nitrate                    2758\n",
       "ACOLONY,iron                  1\n",
       "RAGHUNATH PURA                1\n",
       "SARPANCH /KAMALA PADAR        1\n",
       "Name: Quality Parameter, dtype: int64"
      ]
     },
     "execution_count": 11,
     "metadata": {},
     "output_type": "execute_result"
    }
   ],
   "source": [
    "all_counts = p.value_counts()\n",
    "all_counts"
   ]
  },
  {
   "cell_type": "code",
   "execution_count": 12,
   "metadata": {},
   "outputs": [],
   "source": [
    "probabilities = p.value_counts() / p.count()"
   ]
  },
  {
   "cell_type": "code",
   "execution_count": 13,
   "metadata": {},
   "outputs": [
    {
     "data": {
      "text/plain": [
       "Iron                      0.538990\n",
       "Salinity                  0.220410\n",
       "Fluoride                  0.172674\n",
       "Arsenic                   0.041419\n",
       "Nitrate                   0.026480\n",
       "ACOLONY,iron              0.000010\n",
       "RAGHUNATH PURA            0.000010\n",
       "SARPANCH /KAMALA PADAR    0.000010\n",
       "Name: Quality Parameter, dtype: float64"
      ]
     },
     "execution_count": 13,
     "metadata": {},
     "output_type": "execute_result"
    }
   ],
   "source": [
    "probabilities"
   ]
  },
  {
   "cell_type": "code",
   "execution_count": 14,
   "metadata": {},
   "outputs": [
    {
     "data": {
      "text/plain": [
       "Index(['Iron', 'Salinity', 'Fluoride', 'Arsenic', 'Nitrate', 'ACOLONY,iron',\n",
       "       'RAGHUNATH PURA', 'SARPANCH /KAMALA PADAR'],\n",
       "      dtype='object')"
      ]
     },
     "execution_count": 14,
     "metadata": {},
     "output_type": "execute_result"
    }
   ],
   "source": [
    "probabilities.keys()"
   ]
  },
  {
   "cell_type": "code",
   "execution_count": 15,
   "metadata": {},
   "outputs": [
    {
     "data": {
      "text/html": [
       "<script>requirejs.config({paths: { 'plotly': ['https://cdn.plot.ly/plotly-latest.min']},});if(!window.Plotly) {{require(['plotly'],function(plotly) {window.Plotly=plotly;});}}</script>"
      ],
      "text/vnd.plotly.v1+html": [
       "<script>requirejs.config({paths: { 'plotly': ['https://cdn.plot.ly/plotly-latest.min']},});if(!window.Plotly) {{require(['plotly'],function(plotly) {window.Plotly=plotly;});}}</script>"
      ]
     },
     "metadata": {},
     "output_type": "display_data"
    }
   ],
   "source": [
    "from plotly import __version__\n",
    "from plotly.offline import download_plotlyjs, init_notebook_mode, plot, iplot\n",
    "from plotly.graph_objs import Scatter, Figure, Layout, Histogram, Bar, Pie\n",
    "\n",
    "init_notebook_mode(connected=True)"
   ]
  },
  {
   "cell_type": "code",
   "execution_count": 23,
   "metadata": {},
   "outputs": [
    {
     "data": {
      "application/vnd.plotly.v1+json": {
       "data": [
        {
         "type": "scatter",
         "uid": "9e78a07c-dd1d-11e8-a83e-10f00554a326",
         "x": [
          "Iron",
          "Salinity",
          "Fluoride",
          "Arsenic",
          "Nitrate",
          "ACOLONY,iron",
          "RAGHUNATH PURA",
          "SARPANCH /KAMALA PADAR"
         ],
         "y": [
          0.5389895925342755,
          0.22040976996044395,
          0.1726736817850148,
          0.04141864126886593,
          0.026479511501977804,
          9.600983140673606e-06,
          9.600983140673606e-06,
          9.600983140673606e-06
         ]
        }
       ],
       "layout": {}
      },
      "text/html": [
       "<div id=\"9c254d39-c017-49cb-be91-56322ddaa554\" style=\"height: 525px; width: 100%;\" class=\"plotly-graph-div\"></div><script type=\"text/javascript\">require([\"plotly\"], function(Plotly) { window.PLOTLYENV=window.PLOTLYENV || {};window.PLOTLYENV.BASE_URL=\"https://plot.ly\";Plotly.newPlot(\"9c254d39-c017-49cb-be91-56322ddaa554\", [{\"x\": [\"Iron\", \"Salinity\", \"Fluoride\", \"Arsenic\", \"Nitrate\", \"ACOLONY,iron\", \"RAGHUNATH PURA\", \"SARPANCH /KAMALA PADAR\"], \"y\": [0.5389895925342755, 0.22040976996044395, 0.1726736817850148, 0.04141864126886593, 0.026479511501977804, 9.600983140673606e-06, 9.600983140673606e-06, 9.600983140673606e-06], \"type\": \"scatter\", \"uid\": \"9e78a07d-dd1d-11e8-a83e-10f00554a326\"}], {}, {\"showLink\": true, \"linkText\": \"Export to plot.ly\"})});</script>"
      ],
      "text/vnd.plotly.v1+html": [
       "<div id=\"9c254d39-c017-49cb-be91-56322ddaa554\" style=\"height: 525px; width: 100%;\" class=\"plotly-graph-div\"></div><script type=\"text/javascript\">require([\"plotly\"], function(Plotly) { window.PLOTLYENV=window.PLOTLYENV || {};window.PLOTLYENV.BASE_URL=\"https://plot.ly\";Plotly.newPlot(\"9c254d39-c017-49cb-be91-56322ddaa554\", [{\"x\": [\"Iron\", \"Salinity\", \"Fluoride\", \"Arsenic\", \"Nitrate\", \"ACOLONY,iron\", \"RAGHUNATH PURA\", \"SARPANCH /KAMALA PADAR\"], \"y\": [0.5389895925342755, 0.22040976996044395, 0.1726736817850148, 0.04141864126886593, 0.026479511501977804, 9.600983140673606e-06, 9.600983140673606e-06, 9.600983140673606e-06], \"type\": \"scatter\", \"uid\": \"9e78a07d-dd1d-11e8-a83e-10f00554a326\"}], {}, {\"showLink\": true, \"linkText\": \"Export to plot.ly\"})});</script>"
      ]
     },
     "metadata": {},
     "output_type": "display_data"
    }
   ],
   "source": [
    "iplot([Scatter(x=probabilities.keys(), y=probabilities)])"
   ]
  },
  {
   "cell_type": "code",
   "execution_count": 24,
   "metadata": {},
   "outputs": [],
   "source": [
    "# Get the counts for a given state\n",
    "rajasthan = data[data['State Name'] == 'RAJASTHAN']"
   ]
  },
  {
   "cell_type": "code",
   "execution_count": 18,
   "metadata": {},
   "outputs": [],
   "source": [
    "rajasthan_states = rajasthan['Quality Parameter']"
   ]
  },
  {
   "cell_type": "code",
   "execution_count": 19,
   "metadata": {},
   "outputs": [
    {
     "data": {
      "text/plain": [
       "Salinity          0.707984\n",
       "Fluoride          0.266724\n",
       "Nitrate           0.023346\n",
       "Iron              0.001721\n",
       "Arsenic           0.000187\n",
       "RAGHUNATH PURA    0.000037\n",
       "Name: Quality Parameter, dtype: float64"
      ]
     },
     "execution_count": 19,
     "metadata": {},
     "output_type": "execute_result"
    }
   ],
   "source": [
    "rajasthan_states = rajasthan_states.value_counts() / rajasthan_states.count()\n",
    "rajasthan_states"
   ]
  },
  {
   "cell_type": "code",
   "execution_count": 20,
   "metadata": {},
   "outputs": [
    {
     "data": {
      "application/vnd.plotly.v1+json": {
       "data": [
        {
         "type": "scatter",
         "uid": "02a01e28-dd1d-11e8-a83e-10f00554a326",
         "x": [
          "Salinity",
          "Fluoride",
          "Nitrate",
          "Iron",
          "Arsenic",
          "RAGHUNATH PURA"
         ],
         "y": [
          0.707984136486082,
          0.26672403472014367,
          0.023346303501945526,
          0.0017210416043100868,
          0.0001870697395989225,
          3.74139479197845e-05
         ]
        },
        {
         "type": "scatter",
         "uid": "02a01e29-dd1d-11e8-a83e-10f00554a326",
         "x": [
          "Iron",
          "Salinity",
          "Fluoride",
          "Arsenic",
          "Nitrate",
          "ACOLONY,iron",
          "RAGHUNATH PURA",
          "SARPANCH /KAMALA PADAR"
         ],
         "y": [
          0.5389895925342755,
          0.22040976996044395,
          0.1726736817850148,
          0.04141864126886593,
          0.026479511501977804,
          9.600983140673606e-06,
          9.600983140673606e-06,
          9.600983140673606e-06
         ]
        }
       ],
       "layout": {}
      },
      "text/html": [
       "<div id=\"ec5ae87e-78e1-4ba8-9619-e4d554e60450\" style=\"height: 525px; width: 100%;\" class=\"plotly-graph-div\"></div><script type=\"text/javascript\">require([\"plotly\"], function(Plotly) { window.PLOTLYENV=window.PLOTLYENV || {};window.PLOTLYENV.BASE_URL=\"https://plot.ly\";Plotly.newPlot(\"ec5ae87e-78e1-4ba8-9619-e4d554e60450\", [{\"x\": [\"Salinity\", \"Fluoride\", \"Nitrate\", \"Iron\", \"Arsenic\", \"RAGHUNATH PURA\"], \"y\": [0.707984136486082, 0.26672403472014367, 0.023346303501945526, 0.0017210416043100868, 0.0001870697395989225, 3.74139479197845e-05], \"type\": \"scatter\", \"uid\": \"02a01e2a-dd1d-11e8-a83e-10f00554a326\"}, {\"x\": [\"Iron\", \"Salinity\", \"Fluoride\", \"Arsenic\", \"Nitrate\", \"ACOLONY,iron\", \"RAGHUNATH PURA\", \"SARPANCH /KAMALA PADAR\"], \"y\": [0.5389895925342755, 0.22040976996044395, 0.1726736817850148, 0.04141864126886593, 0.026479511501977804, 9.600983140673606e-06, 9.600983140673606e-06, 9.600983140673606e-06], \"type\": \"scatter\", \"uid\": \"02a01e2b-dd1d-11e8-a83e-10f00554a326\"}], {}, {\"showLink\": true, \"linkText\": \"Export to plot.ly\"})});</script>"
      ],
      "text/vnd.plotly.v1+html": [
       "<div id=\"ec5ae87e-78e1-4ba8-9619-e4d554e60450\" style=\"height: 525px; width: 100%;\" class=\"plotly-graph-div\"></div><script type=\"text/javascript\">require([\"plotly\"], function(Plotly) { window.PLOTLYENV=window.PLOTLYENV || {};window.PLOTLYENV.BASE_URL=\"https://plot.ly\";Plotly.newPlot(\"ec5ae87e-78e1-4ba8-9619-e4d554e60450\", [{\"x\": [\"Salinity\", \"Fluoride\", \"Nitrate\", \"Iron\", \"Arsenic\", \"RAGHUNATH PURA\"], \"y\": [0.707984136486082, 0.26672403472014367, 0.023346303501945526, 0.0017210416043100868, 0.0001870697395989225, 3.74139479197845e-05], \"type\": \"scatter\", \"uid\": \"02a01e2a-dd1d-11e8-a83e-10f00554a326\"}, {\"x\": [\"Iron\", \"Salinity\", \"Fluoride\", \"Arsenic\", \"Nitrate\", \"ACOLONY,iron\", \"RAGHUNATH PURA\", \"SARPANCH /KAMALA PADAR\"], \"y\": [0.5389895925342755, 0.22040976996044395, 0.1726736817850148, 0.04141864126886593, 0.026479511501977804, 9.600983140673606e-06, 9.600983140673606e-06, 9.600983140673606e-06], \"type\": \"scatter\", \"uid\": \"02a01e2b-dd1d-11e8-a83e-10f00554a326\"}], {}, {\"showLink\": true, \"linkText\": \"Export to plot.ly\"})});</script>"
      ]
     },
     "metadata": {},
     "output_type": "display_data"
    }
   ],
   "source": [
    "iplot([Scatter(x=rajasthan_states.keys(), y=rajasthan_states),\n",
    "      Scatter(x=probabilities.keys(), y=probabilities)])"
   ]
  },
  {
   "cell_type": "code",
   "execution_count": 21,
   "metadata": {},
   "outputs": [
    {
     "data": {
      "application/vnd.plotly.v1+json": {
       "data": [
        {
         "type": "bar",
         "uid": "02a01e2c-dd1d-11e8-a83e-10f00554a326",
         "x": [
          "Salinity",
          "Fluoride",
          "Nitrate",
          "Iron",
          "Arsenic",
          "RAGHUNATH PURA"
         ],
         "y": [
          0.707984136486082,
          0.26672403472014367,
          0.023346303501945526,
          0.0017210416043100868,
          0.0001870697395989225,
          3.74139479197845e-05
         ]
        },
        {
         "type": "bar",
         "uid": "02a01e2d-dd1d-11e8-a83e-10f00554a326",
         "x": [
          "Iron",
          "Salinity",
          "Fluoride",
          "Arsenic",
          "Nitrate",
          "ACOLONY,iron",
          "RAGHUNATH PURA",
          "SARPANCH /KAMALA PADAR"
         ],
         "y": [
          0.5389895925342755,
          0.22040976996044395,
          0.1726736817850148,
          0.04141864126886593,
          0.026479511501977804,
          9.600983140673606e-06,
          9.600983140673606e-06,
          9.600983140673606e-06
         ]
        }
       ],
       "layout": {}
      },
      "text/html": [
       "<div id=\"7d250453-6a5c-443a-8103-dbdb76c6c3e1\" style=\"height: 525px; width: 100%;\" class=\"plotly-graph-div\"></div><script type=\"text/javascript\">require([\"plotly\"], function(Plotly) { window.PLOTLYENV=window.PLOTLYENV || {};window.PLOTLYENV.BASE_URL=\"https://plot.ly\";Plotly.newPlot(\"7d250453-6a5c-443a-8103-dbdb76c6c3e1\", [{\"x\": [\"Salinity\", \"Fluoride\", \"Nitrate\", \"Iron\", \"Arsenic\", \"RAGHUNATH PURA\"], \"y\": [0.707984136486082, 0.26672403472014367, 0.023346303501945526, 0.0017210416043100868, 0.0001870697395989225, 3.74139479197845e-05], \"type\": \"bar\", \"uid\": \"02a01e2e-dd1d-11e8-a83e-10f00554a326\"}, {\"x\": [\"Iron\", \"Salinity\", \"Fluoride\", \"Arsenic\", \"Nitrate\", \"ACOLONY,iron\", \"RAGHUNATH PURA\", \"SARPANCH /KAMALA PADAR\"], \"y\": [0.5389895925342755, 0.22040976996044395, 0.1726736817850148, 0.04141864126886593, 0.026479511501977804, 9.600983140673606e-06, 9.600983140673606e-06, 9.600983140673606e-06], \"type\": \"bar\", \"uid\": \"02a01e2f-dd1d-11e8-a83e-10f00554a326\"}], {}, {\"showLink\": true, \"linkText\": \"Export to plot.ly\"})});</script>"
      ],
      "text/vnd.plotly.v1+html": [
       "<div id=\"7d250453-6a5c-443a-8103-dbdb76c6c3e1\" style=\"height: 525px; width: 100%;\" class=\"plotly-graph-div\"></div><script type=\"text/javascript\">require([\"plotly\"], function(Plotly) { window.PLOTLYENV=window.PLOTLYENV || {};window.PLOTLYENV.BASE_URL=\"https://plot.ly\";Plotly.newPlot(\"7d250453-6a5c-443a-8103-dbdb76c6c3e1\", [{\"x\": [\"Salinity\", \"Fluoride\", \"Nitrate\", \"Iron\", \"Arsenic\", \"RAGHUNATH PURA\"], \"y\": [0.707984136486082, 0.26672403472014367, 0.023346303501945526, 0.0017210416043100868, 0.0001870697395989225, 3.74139479197845e-05], \"type\": \"bar\", \"uid\": \"02a01e2e-dd1d-11e8-a83e-10f00554a326\"}, {\"x\": [\"Iron\", \"Salinity\", \"Fluoride\", \"Arsenic\", \"Nitrate\", \"ACOLONY,iron\", \"RAGHUNATH PURA\", \"SARPANCH /KAMALA PADAR\"], \"y\": [0.5389895925342755, 0.22040976996044395, 0.1726736817850148, 0.04141864126886593, 0.026479511501977804, 9.600983140673606e-06, 9.600983140673606e-06, 9.600983140673606e-06], \"type\": \"bar\", \"uid\": \"02a01e2f-dd1d-11e8-a83e-10f00554a326\"}], {}, {\"showLink\": true, \"linkText\": \"Export to plot.ly\"})});</script>"
      ]
     },
     "metadata": {},
     "output_type": "display_data"
    }
   ],
   "source": [
    "iplot([Bar(x=rajasthan_states.keys(), y=rajasthan_states.values),\n",
    "      Bar(x=probabilities.keys(), y=probabilities)])"
   ]
  },
  {
   "cell_type": "code",
   "execution_count": 22,
   "metadata": {},
   "outputs": [
    {
     "ename": "NameError",
     "evalue": "name 'rajasthan_stats' is not defined",
     "output_type": "error",
     "traceback": [
      "\u001b[0;31m---------------------------------------------------------------------------\u001b[0m",
      "\u001b[0;31mNameError\u001b[0m                                 Traceback (most recent call last)",
      "\u001b[0;32m<ipython-input-22-aa6b56a91881>\u001b[0m in \u001b[0;36m<module>\u001b[0;34m()\u001b[0m\n\u001b[0;32m----> 1\u001b[0;31m \u001b[0miplot\u001b[0m\u001b[0;34m(\u001b[0m\u001b[0;34m[\u001b[0m\u001b[0mPie\u001b[0m\u001b[0;34m(\u001b[0m\u001b[0mlabels\u001b[0m\u001b[0;34m=\u001b[0m\u001b[0mrajasthan_stats\u001b[0m\u001b[0;34m.\u001b[0m\u001b[0mkeys\u001b[0m\u001b[0;34m(\u001b[0m\u001b[0;34m)\u001b[0m\u001b[0;34m,\u001b[0m \u001b[0mvalues\u001b[0m\u001b[0;34m=\u001b[0m\u001b[0mrajasthan_stats\u001b[0m\u001b[0;34m.\u001b[0m\u001b[0mvalues\u001b[0m\u001b[0;34m)\u001b[0m\u001b[0;34m]\u001b[0m\u001b[0;34m)\u001b[0m\u001b[0;34m\u001b[0m\u001b[0m\n\u001b[0m\u001b[1;32m      2\u001b[0m \u001b[0miplot\u001b[0m\u001b[0;34m(\u001b[0m\u001b[0;34m[\u001b[0m\u001b[0mPie\u001b[0m\u001b[0;34m(\u001b[0m\u001b[0mlabels\u001b[0m\u001b[0;34m=\u001b[0m\u001b[0mprobabilities\u001b[0m\u001b[0;34m.\u001b[0m\u001b[0mkeys\u001b[0m\u001b[0;34m(\u001b[0m\u001b[0;34m)\u001b[0m\u001b[0;34m,\u001b[0m \u001b[0mvalues\u001b[0m\u001b[0;34m=\u001b[0m\u001b[0mprobabilities\u001b[0m\u001b[0;34m)\u001b[0m\u001b[0;34m]\u001b[0m\u001b[0;34m)\u001b[0m\u001b[0;34m\u001b[0m\u001b[0m\n",
      "\u001b[0;31mNameError\u001b[0m: name 'rajasthan_stats' is not defined"
     ]
    }
   ],
   "source": [
    "iplot([Pie(labels=rajasthan_stats.keys(), values=rajasthan_stats.values)])\n",
    "iplot([Pie(labels=probabilities.keys(), values=probabilities)])"
   ]
  },
  {
   "cell_type": "code",
   "execution_count": null,
   "metadata": {},
   "outputs": [],
   "source": [
    "all_states = data['State Name']\n",
    "all_states = all_states.value_counts() / all_states.count()\n",
    "all_states"
   ]
  },
  {
   "cell_type": "code",
   "execution_count": null,
   "metadata": {},
   "outputs": [],
   "source": [
    "iplot([Bar(x=all_states.keys(), y=all_states)])"
   ]
  },
  {
   "cell_type": "code",
   "execution_count": null,
   "metadata": {},
   "outputs": [],
   "source": [
    "state_names = data['State Name'].unique()\n",
    "state_names"
   ]
  },
  {
   "cell_type": "code",
   "execution_count": null,
   "metadata": {},
   "outputs": [],
   "source": [
    "statewise = {}\n",
    "for state_name in state_names:\n",
    "    state_data = data[data['State Name'] == state_name]\n",
    "    statewise[state_name] = state_data['Quality Parameter'].value_counts()\n",
    "\n"
   ]
  },
  {
   "cell_type": "code",
   "execution_count": null,
   "metadata": {},
   "outputs": [],
   "source": [
    "statewise_values = pd.DataFrame(statewise)"
   ]
  },
  {
   "cell_type": "code",
   "execution_count": null,
   "metadata": {},
   "outputs": [],
   "source": [
    "statewise_values"
   ]
  },
  {
   "cell_type": "code",
   "execution_count": null,
   "metadata": {},
   "outputs": [],
   "source": [
    "statewise_values = statewise_values.fillna(0)"
   ]
  },
  {
   "cell_type": "code",
   "execution_count": null,
   "metadata": {},
   "outputs": [],
   "source": [
    "statewise_values.describe()"
   ]
  },
  {
   "cell_type": "code",
   "execution_count": null,
   "metadata": {},
   "outputs": [],
   "source": [
    "# Mean for each state\n",
    "statewise_values.mean()"
   ]
  },
  {
   "cell_type": "code",
   "execution_count": null,
   "metadata": {},
   "outputs": [],
   "source": [
    "#Transposed data\n",
    "elementwise_values = statewise_values.transpose()\n",
    "elementwise_values"
   ]
  },
  {
   "cell_type": "code",
   "execution_count": null,
   "metadata": {},
   "outputs": [],
   "source": [
    "elementwise_values.mean()"
   ]
  },
  {
   "cell_type": "code",
   "execution_count": null,
   "metadata": {},
   "outputs": [],
   "source": [
    "iplot([Bar(x=statewise_values.keys(), y=statewise_values.loc[i], name=i) for i in statewise_values.index])"
   ]
  },
  {
   "cell_type": "code",
   "execution_count": null,
   "metadata": {},
   "outputs": [],
   "source": [
    "means = elementwise_values.mean()"
   ]
  },
  {
   "cell_type": "code",
   "execution_count": null,
   "metadata": {},
   "outputs": [],
   "source": [
    "iplot([Bar(x=means.keys(), y=means)])"
   ]
  },
  {
   "cell_type": "code",
   "execution_count": null,
   "metadata": {},
   "outputs": [],
   "source": [
    "statemeans = statewise_values.mean()\n",
    "iplot([Bar(x=statemeans.keys(), y=statemeans)])"
   ]
  },
  {
   "cell_type": "code",
   "execution_count": null,
   "metadata": {},
   "outputs": [],
   "source": [
    "statenames = data.groupby(['State Name'])"
   ]
  },
  {
   "cell_type": "code",
   "execution_count": null,
   "metadata": {},
   "outputs": [],
   "source": [
    "statenames.describe()"
   ]
  },
  {
   "cell_type": "code",
   "execution_count": null,
   "metadata": {},
   "outputs": [],
   "source": [
    "statenames['Quality Parameter'].value_counts()"
   ]
  },
  {
   "cell_type": "code",
   "execution_count": null,
   "metadata": {},
   "outputs": [],
   "source": [
    "statevalue_counts = statenames['Quality Parameter'].value_counts()"
   ]
  },
  {
   "cell_type": "code",
   "execution_count": null,
   "metadata": {},
   "outputs": [],
   "source": []
  },
  {
   "cell_type": "code",
   "execution_count": null,
   "metadata": {},
   "outputs": [],
   "source": []
  },
  {
   "cell_type": "code",
   "execution_count": null,
   "metadata": {},
   "outputs": [],
   "source": []
  }
 ],
 "metadata": {
  "kernelspec": {
   "display_name": "Python 3",
   "language": "python",
   "name": "python3"
  },
  "language_info": {
   "codemirror_mode": {
    "name": "ipython",
    "version": 3
   },
   "file_extension": ".py",
   "mimetype": "text/x-python",
   "name": "python",
   "nbconvert_exporter": "python",
   "pygments_lexer": "ipython3",
   "version": "3.6.7"
  }
 },
 "nbformat": 4,
 "nbformat_minor": 2
}
