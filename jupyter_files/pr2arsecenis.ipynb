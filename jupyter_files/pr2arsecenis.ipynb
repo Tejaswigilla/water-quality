{
 "cells": [
  {
   "cell_type": "code",
   "execution_count": 2,
   "metadata": {},
   "outputs": [],
   "source": [
    "import numpy as np\n",
    "import pandas as pd"
   ]
  },
  {
   "cell_type": "code",
   "execution_count": 3,
   "metadata": {},
   "outputs": [],
   "source": [
    "dataset = \"/home/tejaswini/Desktop/project/csv/vinnu.csv\"\n",
    "data = pd.read_csv(dataset, encoding='latin-1')"
   ]
  },
  {
   "cell_type": "code",
   "execution_count": 4,
   "metadata": {},
   "outputs": [
    {
     "data": {
      "text/plain": [
       "Index(['State Name', 'Quality Parameter'], dtype='object')"
      ]
     },
     "execution_count": 4,
     "metadata": {},
     "output_type": "execute_result"
    }
   ],
   "source": [
    "data.columns"
   ]
  },
  {
   "cell_type": "code",
   "execution_count": 5,
   "metadata": {},
   "outputs": [],
   "source": [
    "p = data['State Name']"
   ]
  },
  {
   "cell_type": "code",
   "execution_count": 6,
   "metadata": {},
   "outputs": [
    {
     "data": {
      "text/plain": [
       "array(['ASSAM', 'BIHAR', 'KARNATAKA', 'RAJASTHAN', 'UTTAR PRADESH',\n",
       "       'WEST BENGAL', 'JHARKHAND'], dtype=object)"
      ]
     },
     "execution_count": 6,
     "metadata": {},
     "output_type": "execute_result"
    }
   ],
   "source": [
    "p.unique()"
   ]
  },
  {
   "cell_type": "code",
   "execution_count": 7,
   "metadata": {},
   "outputs": [
    {
     "data": {
      "text/plain": [
       "WEST BENGAL      2119\n",
       "ASSAM            1156\n",
       "BIHAR            1003\n",
       "KARNATAKA          19\n",
       "UTTAR PRADESH       9\n",
       "RAJASTHAN           5\n",
       "JHARKHAND           1\n",
       "Name: State Name, dtype: int64"
      ]
     },
     "execution_count": 7,
     "metadata": {},
     "output_type": "execute_result"
    }
   ],
   "source": [
    "all_counts = p.value_counts()\n",
    "all_counts"
   ]
  },
  {
   "cell_type": "code",
   "execution_count": 8,
   "metadata": {},
   "outputs": [],
   "source": [
    "probabilities = p.value_counts() / p.count()"
   ]
  },
  {
   "cell_type": "code",
   "execution_count": 9,
   "metadata": {},
   "outputs": [
    {
     "data": {
      "text/plain": [
       "WEST BENGAL      0.491419\n",
       "ASSAM            0.268089\n",
       "BIHAR            0.232607\n",
       "KARNATAKA        0.004406\n",
       "UTTAR PRADESH    0.002087\n",
       "RAJASTHAN        0.001160\n",
       "JHARKHAND        0.000232\n",
       "Name: State Name, dtype: float64"
      ]
     },
     "execution_count": 9,
     "metadata": {},
     "output_type": "execute_result"
    }
   ],
   "source": [
    "probabilities"
   ]
  },
  {
   "cell_type": "code",
   "execution_count": 10,
   "metadata": {},
   "outputs": [
    {
     "data": {
      "text/plain": [
       "Index(['WEST BENGAL', 'ASSAM', 'BIHAR', 'KARNATAKA', 'UTTAR PRADESH',\n",
       "       'RAJASTHAN', 'JHARKHAND'],\n",
       "      dtype='object')"
      ]
     },
     "execution_count": 10,
     "metadata": {},
     "output_type": "execute_result"
    }
   ],
   "source": [
    "probabilities.keys()"
   ]
  },
  {
   "cell_type": "code",
   "execution_count": 11,
   "metadata": {},
   "outputs": [
    {
     "data": {
      "text/html": [
       "<script>requirejs.config({paths: { 'plotly': ['https://cdn.plot.ly/plotly-latest.min']},});if(!window.Plotly) {{require(['plotly'],function(plotly) {window.Plotly=plotly;});}}</script>"
      ],
      "text/vnd.plotly.v1+html": [
       "<script>requirejs.config({paths: { 'plotly': ['https://cdn.plot.ly/plotly-latest.min']},});if(!window.Plotly) {{require(['plotly'],function(plotly) {window.Plotly=plotly;});}}</script>"
      ]
     },
     "metadata": {},
     "output_type": "display_data"
    }
   ],
   "source": [
    "from plotly import __version__\n",
    "from plotly.offline import download_plotlyjs, init_notebook_mode, plot, iplot\n",
    "from plotly.graph_objs import Scatter, Figure, Layout, Histogram, Bar, Pie\n",
    "\n",
    "init_notebook_mode(connected=True)"
   ]
  },
  {
   "cell_type": "code",
   "execution_count": 12,
   "metadata": {},
   "outputs": [
    {
     "data": {
      "application/vnd.plotly.v1+json": {
       "data": [
        {
         "type": "scatter",
         "uid": "1d528c20-dc9f-11e8-9e52-10f00554a326",
         "x": [
          "WEST BENGAL",
          "ASSAM",
          "BIHAR",
          "KARNATAKA",
          "UTTAR PRADESH",
          "RAJASTHAN",
          "JHARKHAND"
         ],
         "y": [
          0.49141929499072357,
          0.2680890538033395,
          0.23260667903525045,
          0.004406307977736549,
          0.0020871985157699443,
          0.0011595547309833025,
          0.00023191094619666049
         ]
        }
       ],
       "layout": {}
      },
      "text/html": [
       "<div id=\"ce3d3fa4-cc97-433f-afaa-412b5a592783\" style=\"height: 525px; width: 100%;\" class=\"plotly-graph-div\"></div><script type=\"text/javascript\">require([\"plotly\"], function(Plotly) { window.PLOTLYENV=window.PLOTLYENV || {};window.PLOTLYENV.BASE_URL=\"https://plot.ly\";Plotly.newPlot(\"ce3d3fa4-cc97-433f-afaa-412b5a592783\", [{\"x\": [\"WEST BENGAL\", \"ASSAM\", \"BIHAR\", \"KARNATAKA\", \"UTTAR PRADESH\", \"RAJASTHAN\", \"JHARKHAND\"], \"y\": [0.49141929499072357, 0.2680890538033395, 0.23260667903525045, 0.004406307977736549, 0.0020871985157699443, 0.0011595547309833025, 0.00023191094619666049], \"type\": \"scatter\", \"uid\": \"1d528c21-dc9f-11e8-9e52-10f00554a326\"}], {}, {\"showLink\": true, \"linkText\": \"Export to plot.ly\"})});</script>"
      ],
      "text/vnd.plotly.v1+html": [
       "<div id=\"ce3d3fa4-cc97-433f-afaa-412b5a592783\" style=\"height: 525px; width: 100%;\" class=\"plotly-graph-div\"></div><script type=\"text/javascript\">require([\"plotly\"], function(Plotly) { window.PLOTLYENV=window.PLOTLYENV || {};window.PLOTLYENV.BASE_URL=\"https://plot.ly\";Plotly.newPlot(\"ce3d3fa4-cc97-433f-afaa-412b5a592783\", [{\"x\": [\"WEST BENGAL\", \"ASSAM\", \"BIHAR\", \"KARNATAKA\", \"UTTAR PRADESH\", \"RAJASTHAN\", \"JHARKHAND\"], \"y\": [0.49141929499072357, 0.2680890538033395, 0.23260667903525045, 0.004406307977736549, 0.0020871985157699443, 0.0011595547309833025, 0.00023191094619666049], \"type\": \"scatter\", \"uid\": \"1d528c21-dc9f-11e8-9e52-10f00554a326\"}], {}, {\"showLink\": true, \"linkText\": \"Export to plot.ly\"})});</script>"
      ]
     },
     "metadata": {},
     "output_type": "display_data"
    }
   ],
   "source": [
    "iplot([Scatter(x=probabilities.keys(), y=probabilities)])"
   ]
  },
  {
   "cell_type": "code",
   "execution_count": null,
   "metadata": {},
   "outputs": [],
   "source": []
  }
 ],
 "metadata": {
  "kernelspec": {
   "display_name": "Python 3",
   "language": "python",
   "name": "python3"
  },
  "language_info": {
   "codemirror_mode": {
    "name": "ipython",
    "version": 3
   },
   "file_extension": ".py",
   "mimetype": "text/x-python",
   "name": "python",
   "nbconvert_exporter": "python",
   "pygments_lexer": "ipython3",
   "version": "3.6.6"
  }
 },
 "nbformat": 4,
 "nbformat_minor": 2
}
