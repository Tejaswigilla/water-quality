{
 "cells": [
  {
   "cell_type": "code",
   "execution_count": 9,
   "metadata": {},
   "outputs": [],
   "source": [
    "import numpy as np\n",
    "import pandas as pd"
   ]
  },
  {
   "cell_type": "code",
   "execution_count": 10,
   "metadata": {},
   "outputs": [],
   "source": [
    "dataset = \"/home/tejaswini/Desktop/project/csv/3.csv\"\n",
    "data=pd.read_csv(dataset, encoding='latin-1')"
   ]
  },
  {
   "cell_type": "code",
   "execution_count": 11,
   "metadata": {},
   "outputs": [
    {
     "data": {
      "text/plain": [
       "Index(['statename', 'Quality Parametr'], dtype='object')"
      ]
     },
     "execution_count": 11,
     "metadata": {},
     "output_type": "execute_result"
    }
   ],
   "source": [
    "data.columns"
   ]
  },
  {
   "cell_type": "code",
   "execution_count": 20,
   "metadata": {},
   "outputs": [],
   "source": [
    "d = data['statename']"
   ]
  },
  {
   "cell_type": "code",
   "execution_count": 13,
   "metadata": {},
   "outputs": [
    {
     "data": {
      "text/plain": [
       "array(['ANDHRA PRADESH', 'ASSAM', 'BIHAR', 'GUJARAT', 'KARNATAKA',\n",
       "       'HARYANA', 'JAMMU AND KASHMIR', 'KERALA', 'MADHYA PRADESH',\n",
       "       'MAHARASHTRA', 'ORISSA', 'PUNJAB', 'RAJASTHAN', 'TAMIL NADU',\n",
       "       'UTTAR PRADESH', 'WEST BENGAL', 'CHHATTISGARH', 'JHARKHAND',\n",
       "       'UTTARAKHAND'], dtype=object)"
      ]
     },
     "execution_count": 13,
     "metadata": {},
     "output_type": "execute_result"
    }
   ],
   "source": [
    "d.unique()"
   ]
  },
  {
   "cell_type": "code",
   "execution_count": 14,
   "metadata": {},
   "outputs": [
    {
     "data": {
      "text/plain": [
       "RAJASTHAN            7104\n",
       "KARNATAKA            2801\n",
       "BIHAR                2698\n",
       "MADHYA PRADESH       2485\n",
       "WEST BENGAL           872\n",
       "MAHARASHTRA           481\n",
       "ORISSA                398\n",
       "ANDHRA PRADESH        332\n",
       "CHHATTISGARH          313\n",
       "UTTAR PRADESH         144\n",
       "KERALA                106\n",
       "ASSAM                  80\n",
       "GUJARAT                57\n",
       "JHARKHAND              41\n",
       "PUNJAB                 19\n",
       "HARYANA                12\n",
       "TAMIL NADU              5\n",
       "UTTARAKHAND             2\n",
       "JAMMU AND KASHMIR       2\n",
       "Name: statename, dtype: int64"
      ]
     },
     "execution_count": 14,
     "metadata": {},
     "output_type": "execute_result"
    }
   ],
   "source": [
    "all_counts = d.value_counts()\n",
    "all_counts"
   ]
  },
  {
   "cell_type": "code",
   "execution_count": 15,
   "metadata": {},
   "outputs": [],
   "source": [
    "probabilities = d.value_counts() / d.count()"
   ]
  },
  {
   "cell_type": "code",
   "execution_count": 16,
   "metadata": {},
   "outputs": [
    {
     "data": {
      "text/plain": [
       "RAJASTHAN            0.395722\n",
       "KARNATAKA            0.156027\n",
       "BIHAR                0.150290\n",
       "MADHYA PRADESH       0.138425\n",
       "WEST BENGAL          0.048574\n",
       "MAHARASHTRA          0.026794\n",
       "ORISSA               0.022170\n",
       "ANDHRA PRADESH       0.018494\n",
       "CHHATTISGARH         0.017435\n",
       "UTTAR PRADESH        0.008021\n",
       "KERALA               0.005905\n",
       "ASSAM                0.004456\n",
       "GUJARAT              0.003175\n",
       "JHARKHAND            0.002284\n",
       "PUNJAB               0.001058\n",
       "HARYANA              0.000668\n",
       "TAMIL NADU           0.000279\n",
       "UTTARAKHAND          0.000111\n",
       "JAMMU AND KASHMIR    0.000111\n",
       "Name: statename, dtype: float64"
      ]
     },
     "execution_count": 16,
     "metadata": {},
     "output_type": "execute_result"
    }
   ],
   "source": [
    "probabilities"
   ]
  },
  {
   "cell_type": "code",
   "execution_count": 17,
   "metadata": {},
   "outputs": [
    {
     "data": {
      "text/plain": [
       "Index(['RAJASTHAN', 'KARNATAKA', 'BIHAR', 'MADHYA PRADESH', 'WEST BENGAL',\n",
       "       'MAHARASHTRA', 'ORISSA', 'ANDHRA PRADESH', 'CHHATTISGARH',\n",
       "       'UTTAR PRADESH', 'KERALA', 'ASSAM', 'GUJARAT', 'JHARKHAND', 'PUNJAB',\n",
       "       'HARYANA', 'TAMIL NADU', 'UTTARAKHAND', 'JAMMU AND KASHMIR'],\n",
       "      dtype='object')"
      ]
     },
     "execution_count": 17,
     "metadata": {},
     "output_type": "execute_result"
    }
   ],
   "source": [
    "probabilities.keys()"
   ]
  },
  {
   "cell_type": "code",
   "execution_count": 18,
   "metadata": {},
   "outputs": [
    {
     "data": {
      "text/html": [
       "<script>requirejs.config({paths: { 'plotly': ['https://cdn.plot.ly/plotly-latest.min']},});if(!window.Plotly) {{require(['plotly'],function(plotly) {window.Plotly=plotly;});}}</script>"
      ],
      "text/vnd.plotly.v1+html": [
       "<script>requirejs.config({paths: { 'plotly': ['https://cdn.plot.ly/plotly-latest.min']},});if(!window.Plotly) {{require(['plotly'],function(plotly) {window.Plotly=plotly;});}}</script>"
      ]
     },
     "metadata": {},
     "output_type": "display_data"
    }
   ],
   "source": [
    "from plotly import __version__\n",
    "from plotly.offline import download_plotlyjs, init_notebook_mode, plot, iplot\n",
    "from plotly.graph_objs import Scatter, Figure, Layout, Histogram, Bar, Pie\n",
    "\n",
    "init_notebook_mode(connected=True)"
   ]
  },
  {
   "cell_type": "code",
   "execution_count": 19,
   "metadata": {},
   "outputs": [
    {
     "data": {
      "application/vnd.plotly.v1+json": {
       "data": [
        {
         "type": "scatter",
         "uid": "f799d7b8-dc9e-11e8-9e52-10f00554a326",
         "x": [
          "RAJASTHAN",
          "KARNATAKA",
          "BIHAR",
          "MADHYA PRADESH",
          "WEST BENGAL",
          "MAHARASHTRA",
          "ORISSA",
          "ANDHRA PRADESH",
          "CHHATTISGARH",
          "UTTAR PRADESH",
          "KERALA",
          "ASSAM",
          "GUJARAT",
          "JHARKHAND",
          "PUNJAB",
          "HARYANA",
          "TAMIL NADU",
          "UTTARAKHAND",
          "JAMMU AND KASHMIR"
         ],
         "y": [
          0.39572192513368987,
          0.15602718360071302,
          0.1502896613190731,
          0.138424688057041,
          0.04857397504456328,
          0.02679367201426025,
          0.02217023172905526,
          0.018493761140819964,
          0.017435383244206775,
          0.008021390374331552,
          0.005904634581105169,
          0.004456327985739751,
          0.0031751336898395723,
          0.0022838680926916223,
          0.0010583778966131907,
          0.0006684491978609625,
          0.0002785204991087344,
          0.00011140819964349375,
          0.00011140819964349375
         ]
        }
       ],
       "layout": {}
      },
      "text/html": [
       "<div id=\"ecd99046-d294-4115-9a8b-42327f9738cb\" style=\"height: 525px; width: 100%;\" class=\"plotly-graph-div\"></div><script type=\"text/javascript\">require([\"plotly\"], function(Plotly) { window.PLOTLYENV=window.PLOTLYENV || {};window.PLOTLYENV.BASE_URL=\"https://plot.ly\";Plotly.newPlot(\"ecd99046-d294-4115-9a8b-42327f9738cb\", [{\"x\": [\"RAJASTHAN\", \"KARNATAKA\", \"BIHAR\", \"MADHYA PRADESH\", \"WEST BENGAL\", \"MAHARASHTRA\", \"ORISSA\", \"ANDHRA PRADESH\", \"CHHATTISGARH\", \"UTTAR PRADESH\", \"KERALA\", \"ASSAM\", \"GUJARAT\", \"JHARKHAND\", \"PUNJAB\", \"HARYANA\", \"TAMIL NADU\", \"UTTARAKHAND\", \"JAMMU AND KASHMIR\"], \"y\": [0.39572192513368987, 0.15602718360071302, 0.1502896613190731, 0.138424688057041, 0.04857397504456328, 0.02679367201426025, 0.02217023172905526, 0.018493761140819964, 0.017435383244206775, 0.008021390374331552, 0.005904634581105169, 0.004456327985739751, 0.0031751336898395723, 0.0022838680926916223, 0.0010583778966131907, 0.0006684491978609625, 0.0002785204991087344, 0.00011140819964349375, 0.00011140819964349375], \"type\": \"scatter\", \"uid\": \"f799d7b9-dc9e-11e8-9e52-10f00554a326\"}], {}, {\"showLink\": true, \"linkText\": \"Export to plot.ly\"})});</script>"
      ],
      "text/vnd.plotly.v1+html": [
       "<div id=\"ecd99046-d294-4115-9a8b-42327f9738cb\" style=\"height: 525px; width: 100%;\" class=\"plotly-graph-div\"></div><script type=\"text/javascript\">require([\"plotly\"], function(Plotly) { window.PLOTLYENV=window.PLOTLYENV || {};window.PLOTLYENV.BASE_URL=\"https://plot.ly\";Plotly.newPlot(\"ecd99046-d294-4115-9a8b-42327f9738cb\", [{\"x\": [\"RAJASTHAN\", \"KARNATAKA\", \"BIHAR\", \"MADHYA PRADESH\", \"WEST BENGAL\", \"MAHARASHTRA\", \"ORISSA\", \"ANDHRA PRADESH\", \"CHHATTISGARH\", \"UTTAR PRADESH\", \"KERALA\", \"ASSAM\", \"GUJARAT\", \"JHARKHAND\", \"PUNJAB\", \"HARYANA\", \"TAMIL NADU\", \"UTTARAKHAND\", \"JAMMU AND KASHMIR\"], \"y\": [0.39572192513368987, 0.15602718360071302, 0.1502896613190731, 0.138424688057041, 0.04857397504456328, 0.02679367201426025, 0.02217023172905526, 0.018493761140819964, 0.017435383244206775, 0.008021390374331552, 0.005904634581105169, 0.004456327985739751, 0.0031751336898395723, 0.0022838680926916223, 0.0010583778966131907, 0.0006684491978609625, 0.0002785204991087344, 0.00011140819964349375, 0.00011140819964349375], \"type\": \"scatter\", \"uid\": \"f799d7b9-dc9e-11e8-9e52-10f00554a326\"}], {}, {\"showLink\": true, \"linkText\": \"Export to plot.ly\"})});</script>"
      ]
     },
     "metadata": {},
     "output_type": "display_data"
    }
   ],
   "source": [
    "iplot([Scatter(x=probabilities.keys(), y=probabilities)])"
   ]
  },
  {
   "cell_type": "code",
   "execution_count": null,
   "metadata": {},
   "outputs": [],
   "source": []
  },
  {
   "cell_type": "code",
   "execution_count": null,
   "metadata": {},
   "outputs": [],
   "source": []
  }
 ],
 "metadata": {
  "kernelspec": {
   "display_name": "Python 3",
   "language": "python",
   "name": "python3"
  },
  "language_info": {
   "codemirror_mode": {
    "name": "ipython",
    "version": 3
   },
   "file_extension": ".py",
   "mimetype": "text/x-python",
   "name": "python",
   "nbconvert_exporter": "python",
   "pygments_lexer": "ipython3",
   "version": "3.6.6"
  }
 },
 "nbformat": 4,
 "nbformat_minor": 2
}
