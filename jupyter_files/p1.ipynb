{
 "cells": [
  {
   "cell_type": "code",
   "execution_count": 1,
   "metadata": {},
   "outputs": [],
   "source": [
    "import numpy as np\n",
    "import pandas as pd"
   ]
  },
  {
   "cell_type": "code",
   "execution_count": 2,
   "metadata": {
    "scrolled": true
   },
   "outputs": [],
   "source": [
    "dataset = \"/home/tejaswini/Desktop/project/csv/2.csv\"\n",
    "data = pd.read_csv(dataset, encoding='latin-1')"
   ]
  },
  {
   "cell_type": "code",
   "execution_count": 3,
   "metadata": {},
   "outputs": [
    {
     "data": {
      "text/plain": [
       "Index(['State Name', ' Quality Parameter'], dtype='object')"
      ]
     },
     "execution_count": 3,
     "metadata": {},
     "output_type": "execute_result"
    }
   ],
   "source": [
    "data.columns"
   ]
  },
  {
   "cell_type": "code",
   "execution_count": 4,
   "metadata": {
    "scrolled": true
   },
   "outputs": [
    {
     "data": {
      "text/html": [
       "<div>\n",
       "<style scoped>\n",
       "    .dataframe tbody tr th:only-of-type {\n",
       "        vertical-align: middle;\n",
       "    }\n",
       "\n",
       "    .dataframe tbody tr th {\n",
       "        vertical-align: top;\n",
       "    }\n",
       "\n",
       "    .dataframe thead th {\n",
       "        text-align: right;\n",
       "    }\n",
       "</style>\n",
       "<table border=\"1\" class=\"dataframe\">\n",
       "  <thead>\n",
       "    <tr style=\"text-align: right;\">\n",
       "      <th></th>\n",
       "      <th>State Name</th>\n",
       "      <th>Quality Parameter</th>\n",
       "    </tr>\n",
       "  </thead>\n",
       "  <tbody>\n",
       "    <tr>\n",
       "      <th>0</th>\n",
       "      <td>ASSAM</td>\n",
       "      <td>Iron</td>\n",
       "    </tr>\n",
       "  </tbody>\n",
       "</table>\n",
       "</div>"
      ],
      "text/plain": [
       "  State Name  Quality Parameter\n",
       "0      ASSAM               Iron"
      ]
     },
     "execution_count": 4,
     "metadata": {},
     "output_type": "execute_result"
    }
   ],
   "source": [
    "data[:1]"
   ]
  },
  {
   "cell_type": "code",
   "execution_count": 5,
   "metadata": {},
   "outputs": [],
   "source": [
    "p = data['State Name']"
   ]
  },
  {
   "cell_type": "code",
   "execution_count": 6,
   "metadata": {},
   "outputs": [
    {
     "data": {
      "text/plain": [
       "array(['ASSAM', 'ANDHRA PRADESH', 'ARUNACHAL PRADESH', 'BIHAR', 'GUJARAT',\n",
       "       'JAMMU AND KASHMIR', 'KARNATAKA', 'HARYANA', 'KERALA',\n",
       "       'MADHYA PRADESH', 'MAHARASHTRA', 'MEGHALAYA', 'NAGALAND', 'ORISSA',\n",
       "       'PUNJAB', 'RAJASTHAN', 'PUDUCHERRY', 'TAMIL NADU', 'TRIPURA',\n",
       "       'UTTAR PRADESH', 'WEST BENGAL', 'CHHATTISGARH', 'JHARKHAND',\n",
       "       'UTTARAKHAND'], dtype=object)"
      ]
     },
     "execution_count": 6,
     "metadata": {},
     "output_type": "execute_result"
    }
   ],
   "source": [
    "p.unique()"
   ]
  },
  {
   "cell_type": "code",
   "execution_count": 7,
   "metadata": {},
   "outputs": [
    {
     "data": {
      "text/plain": [
       "RAJASTHAN            26729\n",
       "ASSAM                15979\n",
       "BIHAR                14580\n",
       "ORISSA               12465\n",
       "CHHATTISGARH          8815\n",
       "TRIPURA               5935\n",
       "KARNATAKA             5875\n",
       "WEST BENGAL           5448\n",
       "MADHYA PRADESH        2789\n",
       "MAHARASHTRA           1671\n",
       "KERALA                 934\n",
       "UTTAR PRADESH          882\n",
       "TAMIL NADU             528\n",
       "JHARKHAND              412\n",
       "ANDHRA PRADESH         396\n",
       "GUJARAT                274\n",
       "NAGALAND               130\n",
       "ARUNACHAL PRADESH      115\n",
       "MEGHALAYA               97\n",
       "PUNJAB                  33\n",
       "JAMMU AND KASHMIR       30\n",
       "HARYANA                 17\n",
       "UTTARAKHAND             17\n",
       "PUDUCHERRY               9\n",
       "Name: State Name, dtype: int64"
      ]
     },
     "execution_count": 7,
     "metadata": {},
     "output_type": "execute_result"
    }
   ],
   "source": [
    "all_counts = p.value_counts()\n",
    "all_counts"
   ]
  },
  {
   "cell_type": "code",
   "execution_count": 8,
   "metadata": {},
   "outputs": [],
   "source": [
    "probabilities = p.value_counts() / p.count()"
   ]
  },
  {
   "cell_type": "code",
   "execution_count": 9,
   "metadata": {},
   "outputs": [
    {
     "data": {
      "text/plain": [
       "RAJASTHAN            0.256615\n",
       "ASSAM                0.153408\n",
       "BIHAR                0.139977\n",
       "ORISSA               0.119672\n",
       "CHHATTISGARH         0.084629\n",
       "TRIPURA              0.056980\n",
       "KARNATAKA            0.056404\n",
       "WEST BENGAL          0.052304\n",
       "MADHYA PRADESH       0.026776\n",
       "MAHARASHTRA          0.016043\n",
       "KERALA               0.008967\n",
       "UTTAR PRADESH        0.008468\n",
       "TAMIL NADU           0.005069\n",
       "JHARKHAND            0.003955\n",
       "ANDHRA PRADESH       0.003802\n",
       "GUJARAT              0.002631\n",
       "NAGALAND             0.001248\n",
       "ARUNACHAL PRADESH    0.001104\n",
       "MEGHALAYA            0.000931\n",
       "PUNJAB               0.000317\n",
       "JAMMU AND KASHMIR    0.000288\n",
       "HARYANA              0.000163\n",
       "UTTARAKHAND          0.000163\n",
       "PUDUCHERRY           0.000086\n",
       "Name: State Name, dtype: float64"
      ]
     },
     "execution_count": 9,
     "metadata": {},
     "output_type": "execute_result"
    }
   ],
   "source": [
    "probabilities"
   ]
  },
  {
   "cell_type": "code",
   "execution_count": 10,
   "metadata": {},
   "outputs": [
    {
     "data": {
      "text/plain": [
       "Index(['RAJASTHAN', 'ASSAM', 'BIHAR', 'ORISSA', 'CHHATTISGARH', 'TRIPURA',\n",
       "       'KARNATAKA', 'WEST BENGAL', 'MADHYA PRADESH', 'MAHARASHTRA', 'KERALA',\n",
       "       'UTTAR PRADESH', 'TAMIL NADU', 'JHARKHAND', 'ANDHRA PRADESH', 'GUJARAT',\n",
       "       'NAGALAND', 'ARUNACHAL PRADESH', 'MEGHALAYA', 'PUNJAB',\n",
       "       'JAMMU AND KASHMIR', 'HARYANA', 'UTTARAKHAND', 'PUDUCHERRY'],\n",
       "      dtype='object')"
      ]
     },
     "execution_count": 10,
     "metadata": {},
     "output_type": "execute_result"
    }
   ],
   "source": [
    "probabilities.keys()"
   ]
  },
  {
   "cell_type": "code",
   "execution_count": 11,
   "metadata": {},
   "outputs": [
    {
     "data": {
      "text/html": [
       "<script>requirejs.config({paths: { 'plotly': ['https://cdn.plot.ly/plotly-latest.min']},});if(!window.Plotly) {{require(['plotly'],function(plotly) {window.Plotly=plotly;});}}</script>"
      ],
      "text/vnd.plotly.v1+html": [
       "<script>requirejs.config({paths: { 'plotly': ['https://cdn.plot.ly/plotly-latest.min']},});if(!window.Plotly) {{require(['plotly'],function(plotly) {window.Plotly=plotly;});}}</script>"
      ]
     },
     "metadata": {},
     "output_type": "display_data"
    }
   ],
   "source": [
    "from plotly import __version__\n",
    "from plotly.offline import download_plotlyjs, init_notebook_mode, plot, iplot\n",
    "from plotly.graph_objs import Scatter, Figure, Layout, Histogram, Bar, Pie\n",
    "\n",
    "init_notebook_mode(connected=True)"
   ]
  },
  {
   "cell_type": "code",
   "execution_count": 13,
   "metadata": {},
   "outputs": [
    {
     "data": {
      "application/vnd.plotly.v1+json": {
       "data": [
        {
         "type": "scatter",
         "uid": "ceddeda8-dd1d-11e8-a83e-10f00554a326",
         "x": [
          "RAJASTHAN",
          "ASSAM",
          "BIHAR",
          "ORISSA",
          "CHHATTISGARH",
          "TRIPURA",
          "KARNATAKA",
          "WEST BENGAL",
          "MADHYA PRADESH",
          "MAHARASHTRA",
          "KERALA",
          "UTTAR PRADESH",
          "TAMIL NADU",
          "JHARKHAND",
          "ANDHRA PRADESH",
          "GUJARAT",
          "NAGALAND",
          "ARUNACHAL PRADESH",
          "MEGHALAYA",
          "PUNJAB",
          "JAMMU AND KASHMIR",
          "HARYANA",
          "UTTARAKHAND",
          "PUDUCHERRY"
         ],
         "y": [
          0.25661482334869434,
          0.15340821812596006,
          0.1399769585253456,
          0.11967165898617511,
          0.08462941628264209,
          0.056979646697388635,
          0.05640360983102918,
          0.05230414746543779,
          0.02677611367127496,
          0.0160426267281106,
          0.008966973886328725,
          0.008467741935483872,
          0.005069124423963134,
          0.003955453149001536,
          0.0038018433179723503,
          0.002630568356374808,
          0.0012480798771121351,
          0.0011040706605222733,
          0.0009312596006144393,
          0.0003168202764976959,
          0.0002880184331797235,
          0.00016321044546850998,
          0.00016321044546850998,
          8.640552995391705e-05
         ]
        }
       ],
       "layout": {}
      },
      "text/html": [
       "<div id=\"9130a271-a52e-46f3-969a-f98aea1ec124\" style=\"height: 525px; width: 100%;\" class=\"plotly-graph-div\"></div><script type=\"text/javascript\">require([\"plotly\"], function(Plotly) { window.PLOTLYENV=window.PLOTLYENV || {};window.PLOTLYENV.BASE_URL=\"https://plot.ly\";Plotly.newPlot(\"9130a271-a52e-46f3-969a-f98aea1ec124\", [{\"x\": [\"RAJASTHAN\", \"ASSAM\", \"BIHAR\", \"ORISSA\", \"CHHATTISGARH\", \"TRIPURA\", \"KARNATAKA\", \"WEST BENGAL\", \"MADHYA PRADESH\", \"MAHARASHTRA\", \"KERALA\", \"UTTAR PRADESH\", \"TAMIL NADU\", \"JHARKHAND\", \"ANDHRA PRADESH\", \"GUJARAT\", \"NAGALAND\", \"ARUNACHAL PRADESH\", \"MEGHALAYA\", \"PUNJAB\", \"JAMMU AND KASHMIR\", \"HARYANA\", \"UTTARAKHAND\", \"PUDUCHERRY\"], \"y\": [0.25661482334869434, 0.15340821812596006, 0.1399769585253456, 0.11967165898617511, 0.08462941628264209, 0.056979646697388635, 0.05640360983102918, 0.05230414746543779, 0.02677611367127496, 0.0160426267281106, 0.008966973886328725, 0.008467741935483872, 0.005069124423963134, 0.003955453149001536, 0.0038018433179723503, 0.002630568356374808, 0.0012480798771121351, 0.0011040706605222733, 0.0009312596006144393, 0.0003168202764976959, 0.0002880184331797235, 0.00016321044546850998, 0.00016321044546850998, 8.640552995391705e-05], \"type\": \"scatter\", \"uid\": \"ceddeda9-dd1d-11e8-a83e-10f00554a326\"}], {}, {\"showLink\": true, \"linkText\": \"Export to plot.ly\"})});</script>"
      ],
      "text/vnd.plotly.v1+html": [
       "<div id=\"9130a271-a52e-46f3-969a-f98aea1ec124\" style=\"height: 525px; width: 100%;\" class=\"plotly-graph-div\"></div><script type=\"text/javascript\">require([\"plotly\"], function(Plotly) { window.PLOTLYENV=window.PLOTLYENV || {};window.PLOTLYENV.BASE_URL=\"https://plot.ly\";Plotly.newPlot(\"9130a271-a52e-46f3-969a-f98aea1ec124\", [{\"x\": [\"RAJASTHAN\", \"ASSAM\", \"BIHAR\", \"ORISSA\", \"CHHATTISGARH\", \"TRIPURA\", \"KARNATAKA\", \"WEST BENGAL\", \"MADHYA PRADESH\", \"MAHARASHTRA\", \"KERALA\", \"UTTAR PRADESH\", \"TAMIL NADU\", \"JHARKHAND\", \"ANDHRA PRADESH\", \"GUJARAT\", \"NAGALAND\", \"ARUNACHAL PRADESH\", \"MEGHALAYA\", \"PUNJAB\", \"JAMMU AND KASHMIR\", \"HARYANA\", \"UTTARAKHAND\", \"PUDUCHERRY\"], \"y\": [0.25661482334869434, 0.15340821812596006, 0.1399769585253456, 0.11967165898617511, 0.08462941628264209, 0.056979646697388635, 0.05640360983102918, 0.05230414746543779, 0.02677611367127496, 0.0160426267281106, 0.008966973886328725, 0.008467741935483872, 0.005069124423963134, 0.003955453149001536, 0.0038018433179723503, 0.002630568356374808, 0.0012480798771121351, 0.0011040706605222733, 0.0009312596006144393, 0.0003168202764976959, 0.0002880184331797235, 0.00016321044546850998, 0.00016321044546850998, 8.640552995391705e-05], \"type\": \"scatter\", \"uid\": \"ceddeda9-dd1d-11e8-a83e-10f00554a326\"}], {}, {\"showLink\": true, \"linkText\": \"Export to plot.ly\"})});</script>"
      ]
     },
     "metadata": {},
     "output_type": "display_data"
    }
   ],
   "source": [
    "iplot([Scatter(x=probabilities.keys(), y=probabilities)])"
   ]
  },
  {
   "cell_type": "code",
   "execution_count": null,
   "metadata": {},
   "outputs": [],
   "source": []
  },
  {
   "cell_type": "code",
   "execution_count": null,
   "metadata": {},
   "outputs": [],
   "source": []
  }
 ],
 "metadata": {
  "kernelspec": {
   "display_name": "Python 3",
   "language": "python",
   "name": "python3"
  },
  "language_info": {
   "codemirror_mode": {
    "name": "ipython",
    "version": 3
   },
   "file_extension": ".py",
   "mimetype": "text/x-python",
   "name": "python",
   "nbconvert_exporter": "python",
   "pygments_lexer": "ipython3",
   "version": "3.6.6"
  }
 },
 "nbformat": 4,
 "nbformat_minor": 2
}
